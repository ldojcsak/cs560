{
 "cells": [
  {
   "cell_type": "markdown",
   "metadata": {},
   "source": [
    "### Data"
   ]
  },
  {
   "cell_type": "code",
   "execution_count": 1,
   "metadata": {},
   "outputs": [
    {
     "name": "stderr",
     "output_type": "stream",
     "text": [
      "Using backend: pytorch\n"
     ]
    }
   ],
   "source": [
    "# Import the necessary packages\n",
    "import sys\n",
    "import dgl\n",
    "import torch\n",
    "import torch.nn as nn\n",
    "import torch.nn.functional as F\n",
    "import matplotlib.pyplot as plt\n",
    "import numpy as np\n",
    "import scipy.sparse as sp\n",
    "import itertools"
   ]
  },
  {
   "cell_type": "code",
   "execution_count": 2,
   "metadata": {},
   "outputs": [
    {
     "name": "stdout",
     "output_type": "stream",
     "text": [
      "  NumNodes: 2708\n",
      "  NumEdges: 10556\n",
      "  NumFeats: 1433\n",
      "  NumClasses: 7\n",
      "  NumTrainingSamples: 140\n",
      "  NumValidationSamples: 500\n",
      "  NumTestSamples: 1000\n",
      "Done loading data from cached files.\n"
     ]
    }
   ],
   "source": [
    "# Import the CORA dataset\n",
    "import dgl.data\n",
    "dataset = dgl.data.CoraGraphDataset()\n",
    "g = dataset[0]"
   ]
  },
  {
   "cell_type": "markdown",
   "metadata": {},
   "source": [
    "### Edge Detection"
   ]
  },
  {
   "cell_type": "code",
   "execution_count": 3,
   "metadata": {},
   "outputs": [],
   "source": [
    "from dgl.nn import SAGEConv\n",
    "\n",
    "# ----------- 2. Create Model -------------- #\n",
    "# Build a two-layer GraphSAGE model\n",
    "class GraphSAGE(nn.Module):\n",
    "    def __init__(self, in_feats, h_feats):\n",
    "        super(GraphSAGE, self).__init__()\n",
    "        self.conv1 = SAGEConv(in_feats, h_feats, 'mean')\n",
    "        self.conv2 = SAGEConv(h_feats, h_feats, 'mean')\n",
    "\n",
    "    def forward(self, g, in_feat):\n",
    "        h = self.conv1(g, in_feat)\n",
    "        h = F.relu(h)\n",
    "        h = self.conv2(g, h)\n",
    "        return h\n",
    "    \n",
    "# Data selection and generating positive and negative graphs\n",
    "def data_select(factor):\n",
    "    # Split edge set for training and testing 90:10\n",
    "    u, v = g.edges()\n",
    "\n",
    "    eids = np.arange(g.number_of_edges())\n",
    "    eids = np.random.permutation(eids)\n",
    "    test_size = int(len(eids) * 0.1)\n",
    "    train_size = g.number_of_edges() - test_size\n",
    "    test_pos_u, test_pos_v = u[eids[:test_size]], v[eids[:test_size]]\n",
    "    train_pos_u, train_pos_v = u[eids[test_size:]], v[eids[test_size:]]\n",
    "\n",
    "    # Find all negative edges and split them for training and testing\n",
    "    adj = sp.coo_matrix((np.ones(len(u)), (u.numpy(), v.numpy())))\n",
    "    adj_neg = 1 - adj.todense() - np.eye(g.number_of_nodes())\n",
    "    neg_u, neg_v = np.where(adj_neg != 0)\n",
    "\n",
    "    neg_eids = np.random.choice(len(neg_u), g.number_of_edges() // factor)\n",
    "    test_size = int(len(neg_eids) * 0.1)\n",
    "    test_neg_u, test_neg_v = neg_u[neg_eids[:test_size]], neg_v[neg_eids[:test_size]]\n",
    "    train_neg_u, train_neg_v = neg_u[neg_eids[test_size:]], neg_v[neg_eids[test_size:]]\n",
    "\n",
    "    # Remove the edges in the test set from the original graph\n",
    "    train_g = dgl.remove_edges(g, eids[:test_size])\n",
    "\n",
    "    # Construct the positive and negative graphs for training and testing sets\n",
    "    train_pos_g = dgl.graph((train_pos_u, train_pos_v), num_nodes=g.number_of_nodes())\n",
    "    train_neg_g = dgl.graph((train_neg_u, train_neg_v), num_nodes=g.number_of_nodes())\n",
    "\n",
    "    test_pos_g = dgl.graph((test_pos_u, test_pos_v), num_nodes=g.number_of_nodes())\n",
    "    test_neg_g = dgl.graph((test_neg_u, test_neg_v), num_nodes=g.number_of_nodes())\n",
    "\n",
    "    print(\"Train Set - Positive Edges: \",len(train_pos_u))\n",
    "    print(\"Train Set - Negative Edges: \",len(train_neg_u))\n",
    "    print(\"Test Set - Positive Edges: \", len(test_pos_u))\n",
    "    print(\"Test Set - Negative Edges: \",len(test_neg_u),'\\n')\n",
    "    \n",
    "    # Returns the training/testing graphs\n",
    "    return train_g, train_pos_g, train_neg_g, test_pos_g, test_neg_g"
   ]
  },
  {
   "cell_type": "code",
   "execution_count": 4,
   "metadata": {},
   "outputs": [
    {
     "name": "stdout",
     "output_type": "stream",
     "text": [
      "Train Set - Positive Edges:  9501\n",
      "Train Set - Negative Edges:  4751\n",
      "Test Set - Positive Edges:  1055\n",
      "Test Set - Negative Edges:  527 \n",
      "\n"
     ]
    }
   ],
   "source": [
    "train_g, train_pos_g, train_neg_g, test_pos_g, test_neg_g = data_select(2)"
   ]
  },
  {
   "cell_type": "code",
   "execution_count": 5,
   "metadata": {},
   "outputs": [],
   "source": [
    "import dgl.function as fn\n",
    "\n",
    "class DotPredictor(nn.Module):\n",
    "    def forward(self, g, h):\n",
    "        with g.local_scope():\n",
    "            g.ndata['h'] = h\n",
    "            # Compute a new edge feature named 'score' by a dot-product between the\n",
    "            # source node feature 'h' and destination node feature 'h'.\n",
    "            g.apply_edges(fn.u_dot_v('h', 'h', 'score'))\n",
    "            # u_dot_v returns a 1-element vector for each edge so you need to squeeze it.\n",
    "            return g.edata['score'][:, 0]"
   ]
  },
  {
   "cell_type": "code",
   "execution_count": 6,
   "metadata": {},
   "outputs": [],
   "source": [
    "class MLPPredictor(nn.Module):\n",
    "    def __init__(self, h_feats):\n",
    "        super().__init__()\n",
    "        self.W1 = nn.Linear(h_feats * 2, h_feats)\n",
    "        self.W2 = nn.Linear(h_feats, 1)\n",
    "\n",
    "    def apply_edges(self, edges):\n",
    "        h = torch.cat([edges.src['h'], edges.dst['h']], 1)\n",
    "        return {'score': self.W2(F.relu(self.W1(h))).squeeze(1)}\n",
    "\n",
    "    def forward(self, g, h):\n",
    "        with g.local_scope():\n",
    "            g.ndata['h'] = h\n",
    "            g.apply_edges(self.apply_edges)\n",
    "            return g.edata['score']"
   ]
  },
  {
   "cell_type": "code",
   "execution_count": 7,
   "metadata": {},
   "outputs": [],
   "source": [
    "model = GraphSAGE(train_g.ndata['feat'].shape[1], 16)\n",
    "# You can replace DotPredictor with MLPPredictor.\n",
    "#pred = MLPPredictor(16)\n",
    "pred = DotPredictor()\n",
    "\n",
    "def compute_loss(pos_score, neg_score):\n",
    "    scores = torch.cat([pos_score, neg_score])\n",
    "    labels = torch.cat([torch.ones(pos_score.shape[0]), torch.zeros(neg_score.shape[0])])\n",
    "    return F.binary_cross_entropy_with_logits(scores, labels)\n",
    "\n",
    "def compute_auc(pos_score, neg_score):\n",
    "    scores = torch.cat([pos_score, neg_score]).numpy()\n",
    "    labels = torch.cat(\n",
    "        [torch.ones(pos_score.shape[0]), torch.zeros(neg_score.shape[0])]).numpy()\n",
    "    return roc_auc_score(labels, scores)\n",
    "\n",
    "def compute_prc(pos_score, neg_score):\n",
    "    scores = torch.cat([pos_score, neg_score]).numpy()\n",
    "    labels = torch.cat(\n",
    "        [torch.ones(pos_score.shape[0]), torch.zeros(neg_score.shape[0])]).numpy()\n",
    "    return average_precision_score(labels, scores, pos_label=0), average_precision_score(labels, scores, pos_label=1)"
   ]
  },
  {
   "cell_type": "code",
   "execution_count": 8,
   "metadata": {},
   "outputs": [
    {
     "name": "stdout",
     "output_type": "stream",
     "text": [
      "Train Set - Positive Edges:  9501\n",
      "Train Set - Negative Edges:  9501\n",
      "Test Set - Positive Edges:  1055\n",
      "Test Set - Negative Edges:  1055 \n",
      "\n",
      "In epoch 0, loss: 0.7652720212936401\n",
      "In epoch 5, loss: 0.6927376389503479\n",
      "In epoch 10, loss: 0.6898830533027649\n",
      "In epoch 15, loss: 0.678267240524292\n",
      "In epoch 20, loss: 0.6604422926902771\n",
      "In epoch 25, loss: 0.6332022547721863\n",
      "In epoch 30, loss: 0.595480740070343\n",
      "In epoch 35, loss: 0.5663968920707703\n",
      "In epoch 40, loss: 0.5480628609657288\n",
      "In epoch 45, loss: 0.5228021144866943\n",
      "In epoch 50, loss: 0.5060344934463501\n",
      "In epoch 55, loss: 0.49102210998535156\n",
      "In epoch 60, loss: 0.47653135657310486\n",
      "In epoch 65, loss: 0.46346232295036316\n",
      "In epoch 70, loss: 0.4513061046600342\n",
      "In epoch 75, loss: 0.439363956451416\n",
      "In epoch 80, loss: 0.4264336824417114\n",
      "In epoch 85, loss: 0.4128151834011078\n",
      "In epoch 90, loss: 0.3985768258571625\n",
      "In epoch 95, loss: 0.3852178454399109\n",
      "AUC 0.8429648929718562\n",
      "Minority PR_AUC 0.33302690139182634\n",
      "Majority PR_AUC 0.8147503304995518\n",
      "\n",
      "*****************************************\n",
      "\n",
      "Train Set - Positive Edges:  9501\n",
      "Train Set - Negative Edges:  4751\n",
      "Test Set - Positive Edges:  1055\n",
      "Test Set - Negative Edges:  527 \n",
      "\n",
      "In epoch 0, loss: 0.4125538170337677\n",
      "In epoch 5, loss: 0.3842628598213196\n",
      "In epoch 10, loss: 0.3502553105354309\n",
      "In epoch 15, loss: 0.32109835743904114\n",
      "In epoch 20, loss: 0.29612860083580017\n",
      "In epoch 25, loss: 0.27406758069992065\n",
      "In epoch 30, loss: 0.25414296984672546\n",
      "In epoch 35, loss: 0.23559121787548065\n",
      "In epoch 40, loss: 0.21795473992824554\n",
      "In epoch 45, loss: 0.2010820508003235\n",
      "In epoch 50, loss: 0.184869647026062\n",
      "In epoch 55, loss: 0.16946116089820862\n",
      "In epoch 60, loss: 0.15494945645332336\n",
      "In epoch 65, loss: 0.1411522924900055\n",
      "In epoch 70, loss: 0.12801553308963776\n",
      "In epoch 75, loss: 0.11552534997463226\n",
      "In epoch 80, loss: 0.10379204899072647\n",
      "In epoch 85, loss: 0.09274459630250931\n",
      "In epoch 90, loss: 0.0822477862238884\n",
      "In epoch 95, loss: 0.07241370528936386\n",
      "AUC 0.8602714101999155\n",
      "Minority PR_AUC 0.203405367764602\n",
      "Majority PR_AUC 0.9066036877657693\n",
      "\n",
      "*****************************************\n",
      "\n",
      "Train Set - Positive Edges:  9501\n",
      "Train Set - Negative Edges:  3167\n",
      "Test Set - Positive Edges:  1055\n",
      "Test Set - Negative Edges:  351 \n",
      "\n",
      "In epoch 0, loss: 0.6018060445785522\n",
      "In epoch 5, loss: 0.39174309372901917\n",
      "In epoch 10, loss: 0.2964833080768585\n",
      "In epoch 15, loss: 0.24311710894107819\n",
      "In epoch 20, loss: 0.2024376392364502\n",
      "In epoch 25, loss: 0.17693448066711426\n",
      "In epoch 30, loss: 0.1542177051305771\n",
      "In epoch 35, loss: 0.13508690893650055\n",
      "In epoch 40, loss: 0.11916264146566391\n",
      "In epoch 45, loss: 0.10518700629472733\n",
      "In epoch 50, loss: 0.09261727333068848\n",
      "In epoch 55, loss: 0.0811987891793251\n",
      "In epoch 60, loss: 0.07075955718755722\n",
      "In epoch 65, loss: 0.061275310814380646\n",
      "In epoch 70, loss: 0.052749212831258774\n",
      "In epoch 75, loss: 0.045147307217121124\n",
      "In epoch 80, loss: 0.03838198632001877\n",
      "In epoch 85, loss: 0.0324321873486042\n",
      "In epoch 90, loss: 0.027294456958770752\n",
      "In epoch 95, loss: 0.02291129343211651\n",
      "AUC 0.8804012908278311\n",
      "Minority PR_AUC 0.144266888257322\n",
      "Majority PR_AUC 0.9391281440037891\n",
      "\n",
      "*****************************************\n",
      "\n",
      "Train Set - Positive Edges:  9501\n",
      "Train Set - Negative Edges:  2376\n",
      "Test Set - Positive Edges:  1055\n",
      "Test Set - Negative Edges:  263 \n",
      "\n",
      "In epoch 0, loss: 0.5922260880470276\n",
      "In epoch 5, loss: 0.3762255311012268\n",
      "In epoch 10, loss: 0.2544444501399994\n",
      "In epoch 15, loss: 0.2021900862455368\n",
      "In epoch 20, loss: 0.1634141206741333\n",
      "In epoch 25, loss: 0.13610967993736267\n",
      "In epoch 30, loss: 0.11732004582881927\n",
      "In epoch 35, loss: 0.10124650597572327\n",
      "In epoch 40, loss: 0.08770718425512314\n",
      "In epoch 45, loss: 0.0767807811498642\n",
      "In epoch 50, loss: 0.06717172265052795\n",
      "In epoch 55, loss: 0.05895796790719032\n",
      "In epoch 60, loss: 0.05182632431387901\n",
      "In epoch 65, loss: 0.045562613755464554\n",
      "In epoch 70, loss: 0.04011783376336098\n",
      "In epoch 75, loss: 0.03532697632908821\n",
      "In epoch 80, loss: 0.031070422381162643\n",
      "In epoch 85, loss: 0.0272976104170084\n",
      "In epoch 90, loss: 0.02398807741701603\n",
      "In epoch 95, loss: 0.021108683198690414\n",
      "AUC 0.9014181968896978\n",
      "Minority PR_AUC 0.11129830080077503\n",
      "Majority PR_AUC 0.9621504449192085\n",
      "\n",
      "*****************************************\n",
      "\n"
     ]
    },
    {
     "data": {
      "image/png": "[encoded data removed]",
      "text/plain": [
       "<Figure size 432x288 with 1 Axes>"
      ]
     },
     "metadata": {
      "needs_background": "light"
     },
     "output_type": "display_data"
    }
   ],
   "source": [
    "# ----------- 3. Set up loss and optimizer -------------- #\n",
    "# in this case, loss will in training loop\n",
    "optimizer = torch.optim.Adam(itertools.chain(model.parameters(), pred.parameters()), lr=0.01)\n",
    "\n",
    "# ----------- 4. Training -------------------------------- #\n",
    "factors = [1,2,3,4]   # Factor to imbalance the data\n",
    "auc_scores = []       # Keep track of the AUC values\n",
    "min_pr_scores = []\n",
    "maj_pr_scores = []\n",
    "fig = plt.figure()\n",
    "for i in range(len(factors)):\n",
    "    train_g, train_pos_g, train_neg_g, test_pos_g, test_neg_g = data_select(factors[i])\n",
    "\n",
    "    all_logits = []\n",
    "    epochs = []\n",
    "    lossvals = []\n",
    "    for e in range(100):\n",
    "        # forward\n",
    "        h = model(train_g, train_g.ndata['feat'])\n",
    "        pos_score = pred(train_pos_g, h)\n",
    "        neg_score = pred(train_neg_g, h)\n",
    "        loss = compute_loss(pos_score, neg_score)\n",
    "\n",
    "        # backward\n",
    "        optimizer.zero_grad()\n",
    "        loss.backward()\n",
    "        optimizer.step()\n",
    "    \n",
    "        if e % 5 == 0:\n",
    "            epochs.append(e)\n",
    "            lossvals.append(loss.item())\n",
    "            print('In epoch {}, loss: {}'.format(e, loss))\n",
    "\n",
    "    # ----------- 5. Check Results ------------------------ #\n",
    "    from sklearn.metrics import roc_auc_score\n",
    "    from sklearn.metrics import average_precision_score\n",
    "    with torch.no_grad():\n",
    "        pos_score = pred(test_pos_g, h)\n",
    "        neg_score = pred(test_neg_g, h)\n",
    "        auc = compute_auc(pos_score, neg_score)\n",
    "        minor_pr_auc, major_pr_auc = compute_prc(pos_score, neg_score)\n",
    "        auc_scores.insert(len(auc_scores), auc)\n",
    "        min_pr_scores.insert(len(min_pr_scores), minor_pr_auc)\n",
    "        maj_pr_scores.insert(len(maj_pr_scores), major_pr_auc)\n",
    "        print('AUC', auc)\n",
    "        print('Minority PR_AUC', minor_pr_auc)\n",
    "        print('Majority PR_AUC', major_pr_auc)\n",
    "        print('\\n*****************************************\\n')\n",
    "        \n",
    "    # Plot\n",
    "    plt.scatter(epochs, lossvals)\n",
    "    plt.plot(epochs, lossvals, label='1:{} Positive:Negative'.format(factors[i]))\n",
    "\n",
    "# Plot labels\n",
    "plt.legend()\n",
    "plt.title(\"Loss vs Runs\")\n",
    "plt.xlabel(\"Epochs\")\n",
    "plt.ylabel(\"Loss\")\n",
    "plt.show()"
   ]
  },
  {
   "cell_type": "code",
   "execution_count": 9,
   "metadata": {},
   "outputs": [
    {
     "data": {
      "image/png": "[encoded data removed]",
      "text/plain": [
       "<Figure size 432x288 with 1 Axes>"
      ]
     },
     "metadata": {
      "needs_background": "light"
     },
     "output_type": "display_data"
    }
   ],
   "source": [
    "fig = plt.figure()\n",
    "ax = fig.add_axes([0,0,1,1])\n",
    "ratios = ['1:1','1:2','1:3','1:4']\n",
    "ax.bar(ratios, auc_scores, 0.5)\n",
    "plt.title(\"ROC AUC Scores\")\n",
    "plt.xlabel(\"Ratio of Imbalance\")\n",
    "plt.ylabel(\"ROC AUC Score\")\n",
    "plt.show()"
   ]
  },
  {
   "cell_type": "code",
   "execution_count": 12,
   "metadata": {},
   "outputs": [
    {
     "data": {
      "image/png": "[encoded data removed]",
      "text/plain": [
       "<Figure size 432x288 with 2 Axes>"
      ]
     },
     "metadata": {
      "needs_background": "light"
     },
     "output_type": "display_data"
    }
   ],
   "source": [
    "fig, ax = plt.subplots()\n",
    "ax = fig.add_axes([0,0,1,1])\n",
    "ratios = ['1:1','1:2','1:3','1:4']\n",
    "x_axis = np.arange(len(ratios))\n",
    "bars1 = ax.bar(x_axis - 0.2, min_pr_scores, 0.4, label = 'Minority Class')\n",
    "bars2 = ax.bar(x_axis + 0.2, maj_pr_scores, 0.4, label = 'Majority Class')\n",
    "ax.set_xticks(x_axis)\n",
    "ax.set_xticklabels(ratios)\n",
    "plt.title(\"Precision-Recall AUC Scores\")\n",
    "plt.xlabel(\"Ratio of Imbalance\")\n",
    "plt.ylabel(\"Precision Recall Score\")\n",
    "plt.legend()\n",
    "plt.show()"
   ]
  },
  {
   "cell_type": "code",
   "execution_count": null,
   "metadata": {},
   "outputs": [],
   "source": []
  }
 ],
 "metadata": {
  "kernelspec": {
   "display_name": "Python 3",
   "language": "python",
   "name": "python3"
  },
  "language_info": {
   "codemirror_mode": {
    "name": "ipython",
    "version": 3
   },
   "file_extension": ".py",
   "mimetype": "text/x-python",
   "name": "python",
   "nbconvert_exporter": "python",
   "pygments_lexer": "ipython3",
   "version": "3.8.3"
  }
 },
 "nbformat": 4,
 "nbformat_minor": 4
}
