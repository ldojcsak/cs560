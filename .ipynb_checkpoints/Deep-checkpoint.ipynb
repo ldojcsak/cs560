{
 "cells": [
  {
   "cell_type": "markdown",
   "metadata": {},
   "source": [
    "### Data"
   ]
  },
  {
   "cell_type": "code",
   "execution_count": 13,
   "metadata": {},
   "outputs": [],
   "source": [
    "# Import the necessary packages\n",
    "import sys\n",
    "import dgl\n",
    "import torch\n",
    "import torch.nn as nn\n",
    "import torch.nn.functional as F\n",
    "import matplotlib.pyplot as plt\n",
    "import numpy as np\n",
    "import scipy.sparse as sp\n",
    "import itertools"
   ]
  },
  {
   "cell_type": "code",
   "execution_count": 2,
   "metadata": {},
   "outputs": [
    {
     "name": "stdout",
     "output_type": "stream",
     "text": [
      "  NumNodes: 2708\n",
      "  NumEdges: 10556\n",
      "  NumFeats: 1433\n",
      "  NumClasses: 7\n",
      "  NumTrainingSamples: 140\n",
      "  NumValidationSamples: 500\n",
      "  NumTestSamples: 1000\n",
      "Done loading data from cached files.\n"
     ]
    }
   ],
   "source": [
    "# Import the CORA dataset\n",
    "import dgl.data\n",
    "dataset = dgl.data.CoraGraphDataset()\n",
    "g = dataset[0]"
   ]
  },
  {
   "cell_type": "markdown",
   "metadata": {},
   "source": [
    "### Edge Detection"
   ]
  },
  {
   "cell_type": "code",
   "execution_count": 3,
   "metadata": {},
   "outputs": [],
   "source": [
    "from dgl.nn import SAGEConv\n",
    "\n",
    "# ----------- 2. Create Model -------------- #\n",
    "# Build a two-layer GraphSAGE model\n",
    "class GraphSAGE(nn.Module):\n",
    "    def __init__(self, in_feats, h_feats):\n",
    "        super(GraphSAGE, self).__init__()\n",
    "        self.conv1 = SAGEConv(in_feats, h_feats, 'mean')\n",
    "        self.conv2 = SAGEConv(h_feats, h_feats, 'mean')\n",
    "\n",
    "    def forward(self, g, in_feat):\n",
    "        h = self.conv1(g, in_feat)\n",
    "        h = F.relu(h)\n",
    "        h = self.conv2(g, h)\n",
    "        return h\n",
    "    \n",
    "# Data selection and generating positive and negative graphs\n",
    "def data_select(factor):\n",
    "    # Split edge set for training and testing 90:10\n",
    "    u, v = g.edges()\n",
    "\n",
    "    eids = np.arange(g.number_of_edges())\n",
    "    eids = np.random.permutation(eids)\n",
    "    test_size = int(len(eids) * 0.1)\n",
    "    train_size = g.number_of_edges() - test_size\n",
    "    test_pos_u, test_pos_v = u[eids[:test_size]], v[eids[:test_size]]\n",
    "    train_pos_u, train_pos_v = u[eids[test_size:]], v[eids[test_size:]]\n",
    "\n",
    "    # Find all negative edges and split them for training and testing\n",
    "    adj = sp.coo_matrix((np.ones(len(u)), (u.numpy(), v.numpy())))\n",
    "    adj_neg = 1 - adj.todense() - np.eye(g.number_of_nodes())\n",
    "    neg_u, neg_v = np.where(adj_neg != 0)\n",
    "\n",
    "    neg_eids = np.random.choice(len(neg_u), g.number_of_edges() // factor)\n",
    "    test_size = int(len(neg_eids) * 0.1)\n",
    "    test_neg_u, test_neg_v = neg_u[neg_eids[:test_size]], neg_v[neg_eids[:test_size]]\n",
    "    train_neg_u, train_neg_v = neg_u[neg_eids[test_size:]], neg_v[neg_eids[test_size:]]\n",
    "\n",
    "    # Remove the edges in the test set from the original graph\n",
    "    train_g = dgl.remove_edges(g, eids[:test_size])\n",
    "\n",
    "    # Construct the positive and negative graphs for training and testing sets\n",
    "    train_pos_g = dgl.graph((train_pos_u, train_pos_v), num_nodes=g.number_of_nodes())\n",
    "    train_neg_g = dgl.graph((train_neg_u, train_neg_v), num_nodes=g.number_of_nodes())\n",
    "\n",
    "    test_pos_g = dgl.graph((test_pos_u, test_pos_v), num_nodes=g.number_of_nodes())\n",
    "    test_neg_g = dgl.graph((test_neg_u, test_neg_v), num_nodes=g.number_of_nodes())\n",
    "\n",
    "    print(\"Train Set - Positive Edges: \",len(train_pos_u))\n",
    "    print(\"Train Set - Negative Edges: \",len(train_neg_u))\n",
    "    print(\"Test Set - Positive Edges: \", len(test_pos_u))\n",
    "    print(\"Test Set - Negative Edges: \",len(test_neg_u),'\\n')\n",
    "    \n",
    "    # Returns the training/testing graphs\n",
    "    return train_g, train_pos_g, train_neg_g, test_pos_g, test_neg_g"
   ]
  },
  {
   "cell_type": "code",
   "execution_count": 4,
   "metadata": {},
   "outputs": [
    {
     "name": "stdout",
     "output_type": "stream",
     "text": [
      "Train Set - Positive Edges:  9501\n",
      "Train Set - Negative Edges:  4751\n",
      "Test Set - Positive Edges:  1055\n",
      "Test Set - Negative Edges:  527 \n",
      "\n"
     ]
    }
   ],
   "source": [
    "train_g, train_pos_g, train_neg_g, test_pos_g, test_neg_g = data_select(2)"
   ]
  },
  {
   "cell_type": "code",
   "execution_count": 5,
   "metadata": {},
   "outputs": [],
   "source": [
    "import dgl.function as fn\n",
    "\n",
    "class DotPredictor(nn.Module):\n",
    "    def forward(self, g, h):\n",
    "        with g.local_scope():\n",
    "            g.ndata['h'] = h\n",
    "            # Compute a new edge feature named 'score' by a dot-product between the\n",
    "            # source node feature 'h' and destination node feature 'h'.\n",
    "            g.apply_edges(fn.u_dot_v('h', 'h', 'score'))\n",
    "            # u_dot_v returns a 1-element vector for each edge so you need to squeeze it.\n",
    "            return g.edata['score'][:, 0]"
   ]
  },
  {
   "cell_type": "code",
   "execution_count": 6,
   "metadata": {},
   "outputs": [],
   "source": [
    "class MLPPredictor(nn.Module):\n",
    "    def __init__(self, h_feats):\n",
    "        super().__init__()\n",
    "        self.W1 = nn.Linear(h_feats * 2, h_feats)\n",
    "        self.W2 = nn.Linear(h_feats, 1)\n",
    "\n",
    "    def apply_edges(self, edges):\n",
    "        h = torch.cat([edges.src['h'], edges.dst['h']], 1)\n",
    "        return {'score': self.W2(F.relu(self.W1(h))).squeeze(1)}\n",
    "\n",
    "    def forward(self, g, h):\n",
    "        with g.local_scope():\n",
    "            g.ndata['h'] = h\n",
    "            g.apply_edges(self.apply_edges)\n",
    "            return g.edata['score']"
   ]
  },
  {
   "cell_type": "code",
   "execution_count": 7,
   "metadata": {},
   "outputs": [],
   "source": [
    "model = GraphSAGE(train_g.ndata['feat'].shape[1], 16)\n",
    "# You can replace DotPredictor with MLPPredictor.\n",
    "#pred = MLPPredictor(16)\n",
    "pred = DotPredictor()\n",
    "\n",
    "def compute_loss(pos_score, neg_score):\n",
    "    scores = torch.cat([pos_score, neg_score])\n",
    "    labels = torch.cat([torch.ones(pos_score.shape[0]), torch.zeros(neg_score.shape[0])])\n",
    "    return F.binary_cross_entropy_with_logits(scores, labels)\n",
    "\n",
    "def compute_auc(pos_score, neg_score):\n",
    "    scores = torch.cat([pos_score, neg_score]).numpy()\n",
    "    labels = torch.cat(\n",
    "        [torch.ones(pos_score.shape[0]), torch.zeros(neg_score.shape[0])]).numpy()\n",
    "    return roc_auc_score(labels, scores)\n",
    "\n",
    "def compute_prc(pos_score, neg_score):\n",
    "    scores = torch.cat([pos_score, neg_score]).numpy()\n",
    "    labels = torch.cat(\n",
    "        [torch.ones(pos_score.shape[0]), torch.zeros(neg_score.shape[0])]).numpy()\n",
    "    return average_precision_score(labels, scores, pos_label=0), average_precision_score(labels, scores, pos_label=1)"
   ]
  },
  {
   "cell_type": "code",
   "execution_count": 8,
   "metadata": {},
   "outputs": [
    {
     "name": "stdout",
     "output_type": "stream",
     "text": [
      "Train Set - Positive Edges:  9501\n",
      "Train Set - Negative Edges:  9501\n",
      "Test Set - Positive Edges:  1055\n",
      "Test Set - Negative Edges:  1055 \n",
      "\n",
      "In epoch 0, loss: 0.7560828924179077\n",
      "In epoch 5, loss: 0.6954540014266968\n",
      "In epoch 10, loss: 0.6883766651153564\n",
      "In epoch 15, loss: 0.6706666350364685\n",
      "In epoch 20, loss: 0.6279551982879639\n",
      "In epoch 25, loss: 0.5728552937507629\n",
      "In epoch 30, loss: 0.5452590584754944\n",
      "In epoch 35, loss: 0.5124921798706055\n",
      "In epoch 40, loss: 0.4852253496646881\n",
      "In epoch 45, loss: 0.46190670132637024\n",
      "In epoch 50, loss: 0.4393894374370575\n",
      "In epoch 55, loss: 0.42275187373161316\n",
      "In epoch 60, loss: 0.4045664072036743\n",
      "In epoch 65, loss: 0.38777539134025574\n",
      "In epoch 70, loss: 0.3713173270225525\n",
      "In epoch 75, loss: 0.35463595390319824\n",
      "In epoch 80, loss: 0.3381674885749817\n",
      "In epoch 85, loss: 0.32173025608062744\n",
      "In epoch 90, loss: 0.30551883578300476\n",
      "In epoch 95, loss: 0.28972476720809937\n",
      "AUC 0.87993081916399\n",
      "Minority PR_AUC 0.3235063255970788\n",
      "Majority PR_AUC 0.8503353510111397\n",
      "\n",
      "*****************************************\n",
      "\n",
      "Train Set - Positive Edges:  9501\n",
      "Train Set - Negative Edges:  4751\n",
      "Test Set - Positive Edges:  1055\n",
      "Test Set - Negative Edges:  527 \n",
      "\n",
      "In epoch 0, loss: 0.42795929312705994\n",
      "In epoch 5, loss: 0.3762410581111908\n",
      "In epoch 10, loss: 0.33440688252449036\n",
      "In epoch 15, loss: 0.2980654835700989\n",
      "In epoch 20, loss: 0.26911213994026184\n",
      "In epoch 25, loss: 0.2431855946779251\n",
      "In epoch 30, loss: 0.22106175124645233\n",
      "In epoch 35, loss: 0.20021282136440277\n",
      "In epoch 40, loss: 0.18085423111915588\n",
      "In epoch 45, loss: 0.16253256797790527\n",
      "In epoch 50, loss: 0.14527902007102966\n",
      "In epoch 55, loss: 0.12899824976921082\n",
      "In epoch 60, loss: 0.11366422474384308\n",
      "In epoch 65, loss: 0.09933902323246002\n",
      "In epoch 70, loss: 0.08615078032016754\n",
      "In epoch 75, loss: 0.07411951571702957\n",
      "In epoch 80, loss: 0.06323862820863724\n",
      "In epoch 85, loss: 0.053569257259368896\n",
      "In epoch 90, loss: 0.045056164264678955\n",
      "In epoch 95, loss: 0.03762497752904892\n",
      "AUC 0.8761891058212002\n",
      "Minority PR_AUC 0.19926598369710716\n",
      "Majority PR_AUC 0.9152800537640509\n",
      "\n",
      "*****************************************\n",
      "\n",
      "Train Set - Positive Edges:  9501\n",
      "Train Set - Negative Edges:  3167\n",
      "Test Set - Positive Edges:  1055\n",
      "Test Set - Negative Edges:  351 \n",
      "\n",
      "In epoch 0, loss: 0.7264673113822937\n",
      "In epoch 5, loss: 0.4118008017539978\n",
      "In epoch 10, loss: 0.3157103955745697\n",
      "In epoch 15, loss: 0.2541669011116028\n",
      "In epoch 20, loss: 0.2058606594800949\n",
      "In epoch 25, loss: 0.16941598057746887\n",
      "In epoch 30, loss: 0.14635467529296875\n",
      "In epoch 35, loss: 0.12282527983188629\n",
      "In epoch 40, loss: 0.10439212620258331\n",
      "In epoch 45, loss: 0.09004167467355728\n",
      "In epoch 50, loss: 0.07696042209863663\n",
      "In epoch 55, loss: 0.06596468389034271\n",
      "In epoch 60, loss: 0.05643210560083389\n",
      "In epoch 65, loss: 0.04795943945646286\n",
      "In epoch 70, loss: 0.04053331911563873\n",
      "In epoch 75, loss: 0.03409663960337639\n",
      "In epoch 80, loss: 0.02856845036149025\n",
      "In epoch 85, loss: 0.023868490010499954\n",
      "In epoch 90, loss: 0.019940489903092384\n",
      "In epoch 95, loss: 0.0167014729231596\n",
      "AUC 0.8985511942857914\n",
      "Minority PR_AUC 0.14205069390987532\n",
      "Majority PR_AUC 0.9513492323468202\n",
      "\n",
      "*****************************************\n",
      "\n",
      "Train Set - Positive Edges:  9501\n",
      "Train Set - Negative Edges:  2376\n",
      "Test Set - Positive Edges:  1055\n",
      "Test Set - Negative Edges:  263 \n",
      "\n",
      "In epoch 0, loss: 0.6356485486030579\n",
      "In epoch 5, loss: 0.3603571057319641\n",
      "In epoch 10, loss: 0.26890313625335693\n",
      "In epoch 15, loss: 0.21496805548667908\n",
      "In epoch 20, loss: 0.16036738455295563\n",
      "In epoch 25, loss: 0.13407257199287415\n",
      "In epoch 30, loss: 0.10638020187616348\n",
      "In epoch 35, loss: 0.09071002155542374\n",
      "In epoch 40, loss: 0.0754094198346138\n",
      "In epoch 45, loss: 0.06284677237272263\n",
      "In epoch 50, loss: 0.05309012904763222\n",
      "In epoch 55, loss: 0.04459921643137932\n",
      "In epoch 60, loss: 0.0373314693570137\n",
      "In epoch 65, loss: 0.03127600997686386\n",
      "In epoch 70, loss: 0.026285430416464806\n",
      "In epoch 75, loss: 0.022138243541121483\n",
      "In epoch 80, loss: 0.018671948462724686\n",
      "In epoch 85, loss: 0.015826566144824028\n",
      "In epoch 90, loss: 0.01346800196915865\n",
      "In epoch 95, loss: 0.011511346325278282\n",
      "AUC 0.8862955688104805\n",
      "Minority PR_AUC 0.11230153416368963\n",
      "Majority PR_AUC 0.9584938969376845\n",
      "\n",
      "*****************************************\n",
      "\n"
     ]
    },
    {
     "data": {
      "image/png": "[encoded data removed]",
      "text/plain": [
       "<Figure size 432x288 with 1 Axes>"
      ]
     },
     "metadata": {
      "needs_background": "light"
     },
     "output_type": "display_data"
    }
   ],
   "source": [
    "# ----------- 3. Set up loss and optimizer -------------- #\n",
    "# in this case, loss will in training loop\n",
    "optimizer = torch.optim.Adam(itertools.chain(model.parameters(), pred.parameters()), lr=0.01)\n",
    "\n",
    "# ----------- 4. Training -------------------------------- #\n",
    "factors = [1,2,3,4]   # Factor to imbalance the data\n",
    "auc_scores = []       # Keep track of the AUC values\n",
    "min_pr_scores = []\n",
    "maj_pr_scores = []\n",
    "fig = plt.figure()\n",
    "for i in range(len(factors)):\n",
    "    train_g, train_pos_g, train_neg_g, test_pos_g, test_neg_g = data_select(factors[i])\n",
    "\n",
    "    all_logits = []\n",
    "    epochs = []\n",
    "    lossvals = []\n",
    "    for e in range(100):\n",
    "        # forward\n",
    "        h = model(train_g, train_g.ndata['feat'])\n",
    "        pos_score = pred(train_pos_g, h)\n",
    "        neg_score = pred(train_neg_g, h)\n",
    "        loss = compute_loss(pos_score, neg_score)\n",
    "\n",
    "        # backward\n",
    "        optimizer.zero_grad()\n",
    "        loss.backward()\n",
    "        optimizer.step()\n",
    "    \n",
    "        if e % 5 == 0:\n",
    "            epochs.append(e)\n",
    "            lossvals.append(loss.item())\n",
    "            print('In epoch {}, loss: {}'.format(e, loss))\n",
    "\n",
    "    # ----------- 5. Check Results ------------------------ #\n",
    "    from sklearn.metrics import roc_auc_score\n",
    "    from sklearn.metrics import average_precision_score\n",
    "    with torch.no_grad():\n",
    "        pos_score = pred(test_pos_g, h)\n",
    "        neg_score = pred(test_neg_g, h)\n",
    "        auc = compute_auc(pos_score, neg_score)\n",
    "        minor_pr_auc, major_pr_auc = compute_prc(pos_score, neg_score)\n",
    "        auc_scores.insert(len(auc_scores), auc)\n",
    "        min_pr_scores.insert(len(min_pr_scores), minor_pr_auc)\n",
    "        maj_pr_scores.insert(len(maj_pr_scores), major_pr_auc)\n",
    "        print('AUC', auc)\n",
    "        print('Minority PR_AUC', minor_pr_auc)\n",
    "        print('Majority PR_AUC', major_pr_auc)\n",
    "        print('\\n*****************************************\\n')\n",
    "        \n",
    "    # Plot\n",
    "    plt.scatter(epochs, lossvals)\n",
    "    plt.plot(epochs, lossvals, label='1:{} Positive:Negative'.format(factors[i]))\n",
    "\n",
    "# Plot labels\n",
    "plt.legend()\n",
    "plt.title(\"Loss vs Runs\")\n",
    "plt.xlabel(\"Epochs\")\n",
    "plt.ylabel(\"Loss\")\n",
    "plt.show()"
   ]
  },
  {
   "cell_type": "code",
   "execution_count": 17,
   "metadata": {},
   "outputs": [
    {
     "data": {
      "image/png": "[encoded data removed]",
      "text/plain": [
       "<Figure size 432x288 with 1 Axes>"
      ]
     },
     "metadata": {
      "needs_background": "light"
     },
     "output_type": "display_data"
    }
   ],
   "source": [
    "fig = plt.figure()\n",
    "ax = fig.add_axes([0,0,1,1])\n",
    "ratios = ['1:1','1:2','1:3','1:4']\n",
    "bars = ax.bar(ratios, auc_scores, 0.5)\n",
    "for bar in bars:\n",
    "  height = bar.get_height()\n",
    "  label_x_pos = bar.get_x() + bar.get_width() / 2\n",
    "  ax.text(label_x_pos, height, s='{:.2f}'.format(height), ha='center', va='bottom')\n",
    "plt.title(\"ROC AUC Scores\")\n",
    "plt.xlabel(\"Ratio of Imbalance\")\n",
    "plt.ylabel(\"ROC AUC Score\")\n",
    "plt.show()"
   ]
  },
  {
   "cell_type": "code",
   "execution_count": 15,
   "metadata": {},
   "outputs": [
    {
     "data": {
      "image/png": "[encoded data removed]",
      "text/plain": [
       "<Figure size 432x288 with 2 Axes>"
      ]
     },
     "metadata": {
      "needs_background": "light"
     },
     "output_type": "display_data"
    }
   ],
   "source": [
    "fig, ax = plt.subplots()\n",
    "ax = fig.add_axes([0,0,1,1])\n",
    "ratios = ['1:1','1:2','1:3','1:4']\n",
    "x_axis = np.arange(len(ratios))\n",
    "bars1 = ax.bar(x_axis - 0.2, min_pr_scores, 0.4, label = 'Minority Class')\n",
    "bars2 = ax.bar(x_axis + 0.2, maj_pr_scores, 0.4, label = 'Majority Class')\n",
    "for bar in bars1:\n",
    "  height = bar.get_height()\n",
    "  label_x_pos = bar.get_x() + bar.get_width() / 2\n",
    "  ax.text(label_x_pos, height, s='{:.2f}'.format(height), ha='center', va='bottom')\n",
    "for bar in bars2:\n",
    "  height = bar.get_height()\n",
    "  label_x_pos = bar.get_x() + bar.get_width() / 2\n",
    "  ax.text(label_x_pos, height, s='{:.2f}'.format(height), ha='center', va='bottom')\n",
    "ax.set_xticks(x_axis)\n",
    "ax.set_xticklabels(ratios)\n",
    "plt.title(\"Precision-Recall AUC Scores\")\n",
    "plt.xlabel(\"Ratio of Imbalance\")\n",
    "plt.ylabel(\"Precision Recall Score\")\n",
    "plt.legend()\n",
    "plt.show()"
   ]
  },
  {
   "cell_type": "code",
   "execution_count": 11,
   "metadata": {},
   "outputs": [
    {
     "name": "stdout",
     "output_type": "stream",
     "text": [
      "AUC Scores         :  [0.87993081916399, 0.8761891058212002, 0.8985511942857914, 0.8862955688104805]\n",
      "Majority P-R Scores:  [0.8503353510111397, 0.9152800537640509, 0.9513492323468202, 0.9584938969376845]\n",
      "Minority P-R Scores:  [0.3235063255970788, 0.19926598369710716, 0.14205069390987532, 0.11230153416368963]\n"
     ]
    }
   ],
   "source": [
    "print('AUC Scores         : ', auc_scores)\n",
    "print('Majority P-R Scores: ', maj_pr_scores)\n",
    "print('Minority P-R Scores: ', min_pr_scores)"
   ]
  },
  {
   "cell_type": "code",
   "execution_count": null,
   "metadata": {},
   "outputs": [],
   "source": []
  }
 ],
 "metadata": {
  "kernelspec": {
   "display_name": "Python 3",
   "language": "python",
   "name": "python3"
  },
  "language_info": {
   "codemirror_mode": {
    "name": "ipython",
    "version": 3
   },
   "file_extension": ".py",
   "mimetype": "text/x-python",
   "name": "python",
   "nbconvert_exporter": "python",
   "pygments_lexer": "ipython3",
   "version": "3.8.3"
  }
 },
 "nbformat": 4,
 "nbformat_minor": 4
}
