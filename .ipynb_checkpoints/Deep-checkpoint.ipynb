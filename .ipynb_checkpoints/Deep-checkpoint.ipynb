{
 "cells": [
  {
   "cell_type": "markdown",
   "metadata": {},
   "source": [
    "### Data"
   ]
  },
  {
   "cell_type": "code",
   "execution_count": 186,
   "metadata": {},
   "outputs": [],
   "source": [
    "# Import the necessary packages\n",
    "import sys\n",
    "import dgl\n",
    "import torch\n",
    "import torch.nn as nn\n",
    "import torch.nn.functional as F\n",
    "import matplotlib.pyplot as plt\n",
    "import numpy as np\n",
    "import scipy.sparse as sp\n",
    "import itertools"
   ]
  },
  {
   "cell_type": "code",
   "execution_count": 187,
   "metadata": {},
   "outputs": [
    {
     "name": "stdout",
     "output_type": "stream",
     "text": [
      "  NumNodes: 2708\n",
      "  NumEdges: 10556\n",
      "  NumFeats: 1433\n",
      "  NumClasses: 7\n",
      "  NumTrainingSamples: 140\n",
      "  NumValidationSamples: 500\n",
      "  NumTestSamples: 1000\n",
      "Done loading data from cached files.\n"
     ]
    }
   ],
   "source": [
    "# Import the CORA dataset\n",
    "import dgl.data\n",
    "dataset = dgl.data.CoraGraphDataset()\n",
    "g = dataset[0]"
   ]
  },
  {
   "cell_type": "markdown",
   "metadata": {},
   "source": [
    "### Edge Detection"
   ]
  },
  {
   "cell_type": "code",
   "execution_count": 188,
   "metadata": {},
   "outputs": [],
   "source": [
    "from dgl.nn import SAGEConv\n",
    "\n",
    "# ----------- 2. Create Model -------------- #\n",
    "# Build a two-layer GraphSAGE model\n",
    "class GraphSAGE(nn.Module):\n",
    "    def __init__(self, in_feats, h_feats):\n",
    "        super(GraphSAGE, self).__init__()\n",
    "        self.conv1 = SAGEConv(in_feats, h_feats, 'mean')\n",
    "        self.conv2 = SAGEConv(h_feats, h_feats, 'mean')\n",
    "\n",
    "    def forward(self, g, in_feat):\n",
    "        h = self.conv1(g, in_feat)\n",
    "        h = F.relu(h)\n",
    "        h = self.conv2(g, h)\n",
    "        return h\n",
    "    \n",
    "# Data selection and generating positive and negative graphs\n",
    "def data_select(factor):\n",
    "    # Split edge set for training and testing 90:10\n",
    "    u, v = g.edges()\n",
    "\n",
    "    eids = np.arange(g.number_of_edges())\n",
    "    eids = np.random.permutation(eids)\n",
    "    test_size = int(len(eids) * 0.1)\n",
    "    train_size = g.number_of_edges() - test_size\n",
    "    test_pos_u, test_pos_v = u[eids[:test_size]], v[eids[:test_size]]\n",
    "    train_pos_u, train_pos_v = u[eids[test_size:]], v[eids[test_size:]]\n",
    "\n",
    "    # Find all negative edges and split them for training and testing\n",
    "    adj = sp.coo_matrix((np.ones(len(u)), (u.numpy(), v.numpy())))\n",
    "    adj_neg = 1 - adj.todense() - np.eye(g.number_of_nodes())\n",
    "    neg_u, neg_v = np.where(adj_neg != 0)\n",
    "\n",
    "    neg_eids = np.random.choice(len(neg_u), g.number_of_edges() // factor)\n",
    "    test_size = int(len(neg_eids) * 0.1)\n",
    "    test_neg_u, test_neg_v = neg_u[neg_eids[:test_size]], neg_v[neg_eids[:test_size]]\n",
    "    train_neg_u, train_neg_v = neg_u[neg_eids[test_size:]], neg_v[neg_eids[test_size:]]\n",
    "\n",
    "    # Remove the edges in the test set from the original graph\n",
    "    train_g = dgl.remove_edges(g, eids[:test_size])\n",
    "\n",
    "    # Construct the positive and negative graphs for training and testing sets\n",
    "    train_pos_g = dgl.graph((train_pos_u, train_pos_v), num_nodes=g.number_of_nodes())\n",
    "    train_neg_g = dgl.graph((train_neg_u, train_neg_v), num_nodes=g.number_of_nodes())\n",
    "\n",
    "    test_pos_g = dgl.graph((test_pos_u, test_pos_v), num_nodes=g.number_of_nodes())\n",
    "    test_neg_g = dgl.graph((test_neg_u, test_neg_v), num_nodes=g.number_of_nodes())\n",
    "\n",
    "    print(\"Train Set - Positive Edges: \",len(train_pos_u))\n",
    "    print(\"Train Set - Negative Edges: \",len(train_neg_u))\n",
    "    print(\"Test Set - Positive Edges: \", len(test_pos_u))\n",
    "    print(\"Test Set - Negative Edges: \",len(test_neg_u),'\\n')\n",
    "    \n",
    "    # Returns the training/testing graphs\n",
    "    return train_g, train_pos_g, train_neg_g, test_pos_g, test_neg_g"
   ]
  },
  {
   "cell_type": "code",
   "execution_count": 189,
   "metadata": {},
   "outputs": [
    {
     "name": "stdout",
     "output_type": "stream",
     "text": [
      "Train Set - Positive Edges:  9501\n",
      "Train Set - Negative Edges:  4751\n",
      "Test Set - Positive Edges:  1055\n",
      "Test Set - Negative Edges:  527 \n",
      "\n"
     ]
    }
   ],
   "source": [
    "train_g, train_pos_g, train_neg_g, test_pos_g, test_neg_g = data_select(2)"
   ]
  },
  {
   "cell_type": "code",
   "execution_count": 190,
   "metadata": {},
   "outputs": [],
   "source": [
    "import dgl.function as fn\n",
    "\n",
    "class DotPredictor(nn.Module):\n",
    "    def forward(self, g, h):\n",
    "        with g.local_scope():\n",
    "            g.ndata['h'] = h\n",
    "            # Compute a new edge feature named 'score' by a dot-product between the\n",
    "            # source node feature 'h' and destination node feature 'h'.\n",
    "            g.apply_edges(fn.u_dot_v('h', 'h', 'score'))\n",
    "            # u_dot_v returns a 1-element vector for each edge so you need to squeeze it.\n",
    "            return g.edata['score'][:, 0]"
   ]
  },
  {
   "cell_type": "code",
   "execution_count": 191,
   "metadata": {},
   "outputs": [],
   "source": [
    "class MLPPredictor(nn.Module):\n",
    "    def __init__(self, h_feats):\n",
    "        super().__init__()\n",
    "        self.W1 = nn.Linear(h_feats * 2, h_feats)\n",
    "        self.W2 = nn.Linear(h_feats, 1)\n",
    "\n",
    "    def apply_edges(self, edges):\n",
    "        h = torch.cat([edges.src['h'], edges.dst['h']], 1)\n",
    "        return {'score': self.W2(F.relu(self.W1(h))).squeeze(1)}\n",
    "\n",
    "    def forward(self, g, h):\n",
    "        with g.local_scope():\n",
    "            g.ndata['h'] = h\n",
    "            g.apply_edges(self.apply_edges)\n",
    "            return g.edata['score']"
   ]
  },
  {
   "cell_type": "code",
   "execution_count": 192,
   "metadata": {},
   "outputs": [],
   "source": [
    "model = GraphSAGE(train_g.ndata['feat'].shape[1], 16)\n",
    "# You can replace DotPredictor with MLPPredictor.\n",
    "#pred = MLPPredictor(16)\n",
    "pred = DotPredictor()\n",
    "\n",
    "def compute_loss(pos_score, neg_score):\n",
    "    scores = torch.cat([pos_score, neg_score])\n",
    "    labels = torch.cat([torch.ones(pos_score.shape[0]), torch.zeros(neg_score.shape[0])])\n",
    "    return F.binary_cross_entropy_with_logits(scores, labels)\n",
    "\n",
    "def compute_auc(pos_score, neg_score):\n",
    "    scores = torch.cat([pos_score, neg_score]).numpy()\n",
    "    labels = torch.cat(\n",
    "        [torch.ones(pos_score.shape[0]), torch.zeros(neg_score.shape[0])]).numpy()\n",
    "    return roc_auc_score(labels, scores)\n",
    "\n",
    "def compute_prc(pos_score, neg_score):\n",
    "    scores = torch.cat([pos_score, neg_score]).numpy()\n",
    "    labels = torch.cat(\n",
    "        [torch.ones(pos_score.shape[0]), torch.zeros(neg_score.shape[0])]).numpy()\n",
    "    return average_precision_score(labels, scores, pos_label=0), average_precision_score(labels, scores, pos_label=1)"
   ]
  },
  {
   "cell_type": "code",
   "execution_count": 193,
   "metadata": {},
   "outputs": [
    {
     "name": "stdout",
     "output_type": "stream",
     "text": [
      "Train Set - Positive Edges:  9501\n",
      "Train Set - Negative Edges:  9501\n",
      "Test Set - Positive Edges:  1055\n",
      "Test Set - Negative Edges:  1055 \n",
      "\n",
      "In epoch 0, loss: 0.7470344305038452\n",
      "In epoch 5, loss: 0.6920966506004333\n",
      "In epoch 10, loss: 0.6815090775489807\n",
      "In epoch 15, loss: 0.6419064402580261\n",
      "In epoch 20, loss: 0.5908237099647522\n",
      "In epoch 25, loss: 0.5720856189727783\n",
      "In epoch 30, loss: 0.5508422255516052\n",
      "In epoch 35, loss: 0.5264087319374084\n",
      "In epoch 40, loss: 0.5075482130050659\n",
      "In epoch 45, loss: 0.4943886995315552\n",
      "In epoch 50, loss: 0.48112308979034424\n",
      "In epoch 55, loss: 0.46704408526420593\n",
      "In epoch 60, loss: 0.4544018507003784\n",
      "In epoch 65, loss: 0.44159430265426636\n",
      "In epoch 70, loss: 0.4276638329029083\n",
      "In epoch 75, loss: 0.41251158714294434\n",
      "In epoch 80, loss: 0.3957592248916626\n",
      "In epoch 85, loss: 0.38040482997894287\n",
      "In epoch 90, loss: 0.3647511303424835\n",
      "In epoch 95, loss: 0.34845173358917236\n",
      "AUC 0.8729264841310841\n",
      "Minority PR_AUC 0.3246360199756055\n",
      "Majority PR_AUC 0.8486179410532313\n",
      "\n",
      "*****************************************\n",
      "\n",
      "Train Set - Positive Edges:  9501\n",
      "Train Set - Negative Edges:  4751\n",
      "Test Set - Positive Edges:  1055\n",
      "Test Set - Negative Edges:  527 \n",
      "\n",
      "In epoch 0, loss: 0.419533371925354\n",
      "In epoch 5, loss: 0.3789708912372589\n",
      "In epoch 10, loss: 0.33838093280792236\n",
      "In epoch 15, loss: 0.3047064542770386\n",
      "In epoch 20, loss: 0.27609771490097046\n",
      "In epoch 25, loss: 0.25183743238449097\n",
      "In epoch 30, loss: 0.2299390435218811\n",
      "In epoch 35, loss: 0.20961692929267883\n",
      "In epoch 40, loss: 0.1902984231710434\n",
      "In epoch 45, loss: 0.1718900352716446\n",
      "In epoch 50, loss: 0.15423811972141266\n",
      "In epoch 55, loss: 0.1375586986541748\n",
      "In epoch 60, loss: 0.12187279760837555\n",
      "In epoch 65, loss: 0.10708179324865341\n",
      "In epoch 70, loss: 0.09314538538455963\n",
      "In epoch 75, loss: 0.08015885949134827\n",
      "In epoch 80, loss: 0.06817828118801117\n",
      "In epoch 85, loss: 0.057241786271333694\n",
      "In epoch 90, loss: 0.047452252358198166\n",
      "In epoch 95, loss: 0.03893524035811424\n",
      "AUC 0.8651006771765425\n",
      "Minority PR_AUC 0.20108668907884347\n",
      "Majority PR_AUC 0.9067813653216017\n",
      "\n",
      "*****************************************\n",
      "\n",
      "Train Set - Positive Edges:  9501\n",
      "Train Set - Negative Edges:  3167\n",
      "Test Set - Positive Edges:  1055\n",
      "Test Set - Negative Edges:  351 \n",
      "\n",
      "In epoch 0, loss: 0.8074138164520264\n",
      "In epoch 5, loss: 0.41116946935653687\n",
      "In epoch 10, loss: 0.3423052728176117\n",
      "In epoch 15, loss: 0.27829182147979736\n",
      "In epoch 20, loss: 0.22553224861621857\n",
      "In epoch 25, loss: 0.20233994722366333\n",
      "In epoch 30, loss: 0.17377407848834991\n",
      "In epoch 35, loss: 0.15559121966362\n",
      "In epoch 40, loss: 0.13903196156024933\n",
      "In epoch 45, loss: 0.12432286143302917\n",
      "In epoch 50, loss: 0.11158757656812668\n",
      "In epoch 55, loss: 0.09965376555919647\n",
      "In epoch 60, loss: 0.08887408673763275\n",
      "In epoch 65, loss: 0.07914642989635468\n",
      "In epoch 70, loss: 0.07018644362688065\n",
      "In epoch 75, loss: 0.06200958415865898\n",
      "In epoch 80, loss: 0.0545373409986496\n",
      "In epoch 85, loss: 0.0478379987180233\n",
      "In epoch 90, loss: 0.041849467903375626\n",
      "In epoch 95, loss: 0.03648235276341438\n",
      "AUC 0.8761588420356192\n",
      "Minority PR_AUC 0.14430665170861584\n",
      "Majority PR_AUC 0.9404861019388675\n",
      "\n",
      "*****************************************\n",
      "\n",
      "Train Set - Positive Edges:  9501\n",
      "Train Set - Negative Edges:  2376\n",
      "Test Set - Positive Edges:  1055\n",
      "Test Set - Negative Edges:  263 \n",
      "\n",
      "In epoch 0, loss: 0.5349559783935547\n",
      "In epoch 5, loss: 0.33578571677207947\n",
      "In epoch 10, loss: 0.26041725277900696\n",
      "In epoch 15, loss: 0.21642369031906128\n",
      "In epoch 20, loss: 0.18102072179317474\n",
      "In epoch 25, loss: 0.1482156366109848\n",
      "In epoch 30, loss: 0.12809635698795319\n",
      "In epoch 35, loss: 0.11223144829273224\n",
      "In epoch 40, loss: 0.0972905233502388\n",
      "In epoch 45, loss: 0.08540765941143036\n",
      "In epoch 50, loss: 0.07501229643821716\n",
      "In epoch 55, loss: 0.06628349423408508\n",
      "In epoch 60, loss: 0.058464325964450836\n",
      "In epoch 65, loss: 0.051598597317934036\n",
      "In epoch 70, loss: 0.04551779106259346\n",
      "In epoch 75, loss: 0.040069229900836945\n",
      "In epoch 80, loss: 0.03524336218833923\n",
      "In epoch 85, loss: 0.030999790877103806\n",
      "In epoch 90, loss: 0.02727259136736393\n",
      "In epoch 95, loss: 0.024003811180591583\n",
      "AUC 0.8931757158560538\n",
      "Minority PR_AUC 0.11170429197905703\n",
      "Majority PR_AUC 0.9621802045788237\n",
      "\n",
      "*****************************************\n",
      "\n"
     ]
    },
    {
     "data": {
      "image/png": "[encoded data removed]",
      "text/plain": [
       "<Figure size 432x288 with 1 Axes>"
      ]
     },
     "metadata": {
      "needs_background": "light"
     },
     "output_type": "display_data"
    }
   ],
   "source": [
    "# ----------- 3. Set up loss and optimizer -------------- #\n",
    "# in this case, loss will in training loop\n",
    "optimizer = torch.optim.Adam(itertools.chain(model.parameters(), pred.parameters()), lr=0.01)\n",
    "\n",
    "# ----------- 4. Training -------------------------------- #\n",
    "factors = [1,2,3,4]   # Factor to imbalance the data\n",
    "auc_scores = []       # Keep track of the AUC values\n",
    "min_pr_scores = []\n",
    "maj_pr_scores = []\n",
    "fig = plt.figure()\n",
    "for i in range(len(factors)):\n",
    "    train_g, train_pos_g, train_neg_g, test_pos_g, test_neg_g = data_select(factors[i])\n",
    "\n",
    "    all_logits = []\n",
    "    epochs = []\n",
    "    lossvals = []\n",
    "    for e in range(100):\n",
    "        # forward\n",
    "        h = model(train_g, train_g.ndata['feat'])\n",
    "        pos_score = pred(train_pos_g, h)\n",
    "        neg_score = pred(train_neg_g, h)\n",
    "        loss = compute_loss(pos_score, neg_score)\n",
    "\n",
    "        # backward\n",
    "        optimizer.zero_grad()\n",
    "        loss.backward()\n",
    "        optimizer.step()\n",
    "    \n",
    "        if e % 5 == 0:\n",
    "            epochs.append(e)\n",
    "            lossvals.append(loss.item())\n",
    "            print('In epoch {}, loss: {}'.format(e, loss))\n",
    "\n",
    "    # ----------- 5. Check Results ------------------------ #\n",
    "    from sklearn.metrics import roc_auc_score\n",
    "    from sklearn.metrics import average_precision_score\n",
    "    with torch.no_grad():\n",
    "        pos_score = pred(test_pos_g, h)\n",
    "        neg_score = pred(test_neg_g, h)\n",
    "        auc = compute_auc(pos_score, neg_score)\n",
    "        minor_pr_auc, major_pr_auc = compute_prc(pos_score, neg_score)\n",
    "        auc_scores.insert(len(auc_scores), auc)\n",
    "        min_pr_scores.insert(len(min_pr_scores), minor_pr_auc)\n",
    "        maj_pr_scores.insert(len(maj_pr_scores), major_pr_auc)\n",
    "        print('AUC', auc)\n",
    "        print('Minority PR_AUC', minor_pr_auc)\n",
    "        print('Majority PR_AUC', major_pr_auc)\n",
    "        print('\\n*****************************************\\n')\n",
    "        \n",
    "    # Plot\n",
    "    plt.scatter(epochs, lossvals)\n",
    "    plt.plot(epochs, lossvals, label='1:{} Positive:Negative'.format(factors[i]))\n",
    "\n",
    "# Plot labels\n",
    "plt.legend()\n",
    "plt.title(\"Loss vs Runs\")\n",
    "plt.xlabel(\"Epochs\")\n",
    "plt.ylabel(\"Loss\")\n",
    "plt.show()"
   ]
  },
  {
   "cell_type": "code",
   "execution_count": 194,
   "metadata": {},
   "outputs": [
    {
     "data": {
      "image/png": "[encoded data removed]",
      "text/plain": [
       "<Figure size 432x288 with 1 Axes>"
      ]
     },
     "metadata": {
      "needs_background": "light"
     },
     "output_type": "display_data"
    }
   ],
   "source": [
    "fig = plt.figure()\n",
    "ax = fig.add_axes([0,0,1,1])\n",
    "ratios = ['1:1','1:2','1:3','1:4']\n",
    "ax.bar(ratios, auc_scores, 0.5)\n",
    "plt.title(\"ROC AUC Scores\")\n",
    "plt.xlabel(\"Ratio of Imbalance\")\n",
    "plt.ylabel(\"ROC AUC Score\")\n",
    "plt.show()"
   ]
  },
  {
   "cell_type": "code",
   "execution_count": 195,
   "metadata": {},
   "outputs": [
    {
     "data": {
      "image/png": "[encoded data removed]",
      "text/plain": [
       "<Figure size 432x288 with 1 Axes>"
      ]
     },
     "metadata": {
      "needs_background": "light"
     },
     "output_type": "display_data"
    }
   ],
   "source": [
    "fig = plt.figure()\n",
    "ax = fig.add_axes([0,0,1,1])\n",
    "ratios = ['1:1','1:2','1:3','1:4']\n",
    "x_axis = np.arange(len(ratios))\n",
    "ax.bar(x_axis - 0.2, min_pr_scores, 0.4, label = 'Minority Class')\n",
    "ax.bar(x_axis + 0.2, maj_pr_scores, 0.4, label = 'Majority Class')\n",
    "plt.title(\"Precision-Recall AUC Scores\")\n",
    "plt.xlabel(\"Ratio of Imbalance\")\n",
    "plt.ylabel(\"Precision Recall Score\")\n",
    "plt.legend()\n",
    "plt.show()"
   ]
  },
  {
   "cell_type": "code",
   "execution_count": null,
   "metadata": {},
   "outputs": [],
   "source": []
  }
 ],
 "metadata": {
  "kernelspec": {
   "display_name": "Python 3",
   "language": "python",
   "name": "python3"
  },
  "language_info": {
   "codemirror_mode": {
    "name": "ipython",
    "version": 3
   },
   "file_extension": ".py",
   "mimetype": "text/x-python",
   "name": "python",
   "nbconvert_exporter": "python",
   "pygments_lexer": "ipython3",
   "version": "3.8.3"
  }
 },
 "nbformat": 4,
 "nbformat_minor": 4
}
