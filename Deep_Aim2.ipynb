{
 "cells": [
  {
   "cell_type": "markdown",
   "metadata": {},
   "source": [
    "### Data"
   ]
  },
  {
   "cell_type": "code",
   "execution_count": 238,
   "metadata": {},
   "outputs": [],
   "source": [
    "# Import the necessary packages\n",
    "import sys\n",
    "import dgl\n",
    "import torch\n",
    "import torch.nn as nn\n",
    "import torch.nn.functional as F\n",
    "import matplotlib.pyplot as plt\n",
    "import numpy as np\n",
    "import scipy.sparse as sp\n",
    "import itertools"
   ]
  },
  {
   "cell_type": "code",
   "execution_count": 239,
   "metadata": {},
   "outputs": [
    {
     "name": "stdout",
     "output_type": "stream",
     "text": [
      "  NumNodes: 2708\n",
      "  NumEdges: 10556\n",
      "  NumFeats: 1433\n",
      "  NumClasses: 7\n",
      "  NumTrainingSamples: 140\n",
      "  NumValidationSamples: 500\n",
      "  NumTestSamples: 1000\n",
      "Done loading data from cached files.\n"
     ]
    }
   ],
   "source": [
    "# Import the CORA dataset\n",
    "import dgl.data\n",
    "dataset = dgl.data.CoraGraphDataset()       # Nodes: 2708 Edges: 10556\n",
    "#dataset = dgl.data.CiteseerGraphDataset()   # Nodes: 3327 Edges: 9228\n",
    "#dataset = dgl.data.PubmedGraphDataset()     # Nodes: 19717 Edges: 88651\n",
    "#dataset = dgl.data.CoraFullDataset()        # Nodes: 19,793 Edges: 130,622\n",
    "g = dataset[0]"
   ]
  },
  {
   "cell_type": "markdown",
   "metadata": {},
   "source": [
    "### Edge Detection"
   ]
  },
  {
   "cell_type": "code",
   "execution_count": 240,
   "metadata": {},
   "outputs": [],
   "source": [
    "from dgl.nn import SAGEConv\n",
    "\n",
    "# ----------- 2. Create Model -------------- #\n",
    "# Build a two-layer GraphSAGE model\n",
    "class GraphSAGE(nn.Module):\n",
    "    def __init__(self, in_feats, h_feats):\n",
    "        super(GraphSAGE, self).__init__()\n",
    "        self.conv1 = SAGEConv(in_feats, h_feats, 'mean')\n",
    "        self.conv2 = SAGEConv(h_feats, h_feats, 'mean')\n",
    "\n",
    "    def forward(self, g, in_feat):\n",
    "        h = self.conv1(g, in_feat)\n",
    "        h = F.relu(h)\n",
    "        h = self.conv2(g, h)\n",
    "        return h\n",
    "    \n",
    "# Data selection and generating positive and negative graphs\n",
    "def data_select(factor):\n",
    "    # Split edge set for training and testing 90:10\n",
    "    u, v = g.edges()\n",
    "\n",
    "    eids = np.arange(g.number_of_edges())\n",
    "    eids = np.random.permutation(eids)\n",
    "    test_size = int(len(eids) * 0.1)\n",
    "    train_size = g.number_of_edges() - test_size\n",
    "    test_pos_u, test_pos_v = u[eids[:test_size]], v[eids[:test_size]]\n",
    "    train_pos_u, train_pos_v = u[eids[test_size:]], v[eids[test_size:]]\n",
    "\n",
    "    # Find all negative edges and split them for training and testing\n",
    "    adj = sp.coo_matrix((np.ones(len(u)), (u.numpy(), v.numpy())))\n",
    "    adj_neg = 1 - adj.todense() - np.eye(g.number_of_nodes())\n",
    "    neg_u, neg_v = np.where(adj_neg != 0)\n",
    "\n",
    "    neg_eids = np.random.choice(len(neg_u), g.number_of_edges() // factor)\n",
    "    test_size = int(len(neg_eids) * 0.1)\n",
    "    test_neg_u, test_neg_v = neg_u[neg_eids[:test_size]], neg_v[neg_eids[:test_size]]\n",
    "    train_neg_u, train_neg_v = neg_u[neg_eids[test_size:]], neg_v[neg_eids[test_size:]]\n",
    "\n",
    "    # Remove the edges in the test set from the original graph\n",
    "    train_g = dgl.remove_edges(g, eids[:test_size])\n",
    "\n",
    "    # Construct the positive and negative graphs for training and testing sets\n",
    "    train_pos_g = dgl.graph((train_pos_u, train_pos_v), num_nodes=g.number_of_nodes())\n",
    "    train_neg_g = dgl.graph((train_neg_u, train_neg_v), num_nodes=g.number_of_nodes())\n",
    "\n",
    "    test_pos_g = dgl.graph((test_pos_u, test_pos_v), num_nodes=g.number_of_nodes())\n",
    "    test_neg_g = dgl.graph((test_neg_u, test_neg_v), num_nodes=g.number_of_nodes())\n",
    "\n",
    "    print(\"Train Set - Positive Edges: \",len(train_pos_u))\n",
    "    print(\"Train Set - Negative Edges: \",len(train_neg_u))\n",
    "    print(\"Test Set - Positive Edges: \", len(test_pos_u))\n",
    "    print(\"Test Set - Negative Edges: \",len(test_neg_u),'\\n')\n",
    "    \n",
    "    # Returns the training/testing graphs\n",
    "    return train_g, train_pos_g, train_neg_g, test_pos_g, test_neg_g"
   ]
  },
  {
   "cell_type": "code",
   "execution_count": 241,
   "metadata": {},
   "outputs": [
    {
     "name": "stdout",
     "output_type": "stream",
     "text": [
      "Train Set - Positive Edges:  9501\n",
      "Train Set - Negative Edges:  4751\n",
      "Test Set - Positive Edges:  1055\n",
      "Test Set - Negative Edges:  527 \n",
      "\n"
     ]
    }
   ],
   "source": [
    "train_g, train_pos_g, train_neg_g, test_pos_g, test_neg_g = data_select(2)"
   ]
  },
  {
   "cell_type": "code",
   "execution_count": 242,
   "metadata": {},
   "outputs": [],
   "source": [
    "import dgl.function as fn\n",
    "\n",
    "class DotPredictor(nn.Module):\n",
    "    def forward(self, g, h):\n",
    "        with g.local_scope():\n",
    "            g.ndata['h'] = h\n",
    "            # Compute a new edge feature named 'score' by a dot-product between the\n",
    "            # source node feature 'h' and destination node feature 'h'.\n",
    "            g.apply_edges(fn.u_dot_v('h', 'h', 'score'))\n",
    "            # u_dot_v returns a 1-element vector for each edge so you need to squeeze it.\n",
    "            return g.edata['score'][:, 0]"
   ]
  },
  {
   "cell_type": "code",
   "execution_count": 243,
   "metadata": {},
   "outputs": [],
   "source": [
    "class MLPPredictor(nn.Module):\n",
    "    def __init__(self, h_feats):\n",
    "        super().__init__()\n",
    "        self.W1 = nn.Linear(h_feats * 2, h_feats)\n",
    "        self.W2 = nn.Linear(h_feats, 1)\n",
    "\n",
    "    def apply_edges(self, edges):\n",
    "        h = torch.cat([edges.src['h'], edges.dst['h']], 1)\n",
    "        return {'score': self.W2(F.relu(self.W1(h))).squeeze(1)}\n",
    "\n",
    "    def forward(self, g, h):\n",
    "        with g.local_scope():\n",
    "            g.ndata['h'] = h\n",
    "            g.apply_edges(self.apply_edges)\n",
    "            return g.edata['score']"
   ]
  },
  {
   "cell_type": "code",
   "execution_count": 244,
   "metadata": {},
   "outputs": [],
   "source": [
    "model = GraphSAGE(train_g.ndata['feat'].shape[1], 16)\n",
    "# You can replace DotPredictor with MLPPredictor.\n",
    "#pred = MLPPredictor(16)\n",
    "pred = DotPredictor()\n",
    "\n",
    "def compute_loss(pos_score, neg_score):\n",
    "    scores = torch.cat([pos_score, neg_score])\n",
    "    labels = torch.cat([torch.ones(pos_score.shape[0]), torch.zeros(neg_score.shape[0])])\n",
    "    return F.binary_cross_entropy_with_logits(scores, labels)\n",
    "\n",
    "def compute_weighted_loss(pos_score, neg_score, weight=None):\n",
    "    scores = torch.cat([pos_score, neg_score])\n",
    "    labels = torch.cat([torch.ones(pos_score.shape[0]), torch.zeros(neg_score.shape[0])])\n",
    "    return F.binary_cross_entropy_with_logits(scores, labels, pos_weight=weight)\n",
    "\n",
    "def compute_auc(pos_score, neg_score):\n",
    "    scores = torch.cat([pos_score, neg_score]).numpy()\n",
    "    labels = torch.cat(\n",
    "        [torch.ones(pos_score.shape[0]), torch.zeros(neg_score.shape[0])]).numpy()\n",
    "    return roc_auc_score(labels, scores)\n",
    "\n",
    "def compute_prc(pos_score, neg_score):\n",
    "    scores = torch.cat([pos_score, neg_score]).numpy()\n",
    "    labels = torch.cat(\n",
    "        [torch.ones(pos_score.shape[0]), torch.zeros(neg_score.shape[0])]).numpy()\n",
    "    return average_precision_score(labels, scores, pos_label=0), average_precision_score(labels, scores, pos_label=1)"
   ]
  },
  {
   "cell_type": "code",
   "execution_count": 245,
   "metadata": {},
   "outputs": [
    {
     "name": "stdout",
     "output_type": "stream",
     "text": [
      "Train Set - Positive Edges:  9501\n",
      "Train Set - Negative Edges:  9501\n",
      "Test Set - Positive Edges:  1055\n",
      "Test Set - Negative Edges:  1055 \n",
      "\n",
      "In epoch 0, loss: 0.7320640087127686\n",
      "In epoch 5, loss: 0.6922084093093872\n",
      "In epoch 10, loss: 0.6623343229293823\n",
      "In epoch 15, loss: 0.5970226526260376\n",
      "In epoch 20, loss: 0.5360862612724304\n",
      "In epoch 25, loss: 0.4933178424835205\n",
      "In epoch 30, loss: 0.47022321820259094\n",
      "In epoch 35, loss: 0.4545938968658447\n",
      "In epoch 40, loss: 0.43325358629226685\n",
      "In epoch 45, loss: 0.415857195854187\n",
      "In epoch 50, loss: 0.3988702893257141\n",
      "In epoch 55, loss: 0.38268548250198364\n",
      "In epoch 60, loss: 0.3666316270828247\n",
      "In epoch 65, loss: 0.3503594696521759\n",
      "In epoch 70, loss: 0.3342951834201813\n",
      "In epoch 75, loss: 0.31816110014915466\n",
      "In epoch 80, loss: 0.30208924412727356\n",
      "In epoch 85, loss: 0.2862562835216522\n",
      "In epoch 90, loss: 0.2702898681163788\n",
      "In epoch 95, loss: 0.25476762652397156\n",
      "AUC 0.8464607713213989\n",
      "Minority PR_AUC 0.33599570836487985\n",
      "Majority PR_AUC 0.7937551335795002\n",
      "\n",
      "*****************************************\n",
      "\n",
      "Train Set - Positive Edges:  9501\n",
      "Train Set - Negative Edges:  4751\n",
      "Test Set - Positive Edges:  1055\n",
      "Test Set - Negative Edges:  527 \n",
      "\n",
      "In epoch 0, loss: 0.8840582966804504\n",
      "In epoch 5, loss: 0.531638503074646\n",
      "In epoch 10, loss: 0.44828590750694275\n",
      "In epoch 15, loss: 0.44557446241378784\n",
      "In epoch 20, loss: 0.4410807490348816\n",
      "In epoch 25, loss: 0.4283822476863861\n",
      "In epoch 30, loss: 0.41132697463035583\n",
      "In epoch 35, loss: 0.39240792393684387\n",
      "In epoch 40, loss: 0.37380561232566833\n",
      "In epoch 45, loss: 0.3539871871471405\n",
      "In epoch 50, loss: 0.3322369158267975\n",
      "In epoch 55, loss: 0.3085784912109375\n",
      "In epoch 60, loss: 0.2841903269290924\n",
      "In epoch 65, loss: 0.2592777907848358\n",
      "In epoch 70, loss: 0.23395133018493652\n",
      "In epoch 75, loss: 0.20856232941150665\n",
      "In epoch 80, loss: 0.18378907442092896\n",
      "In epoch 85, loss: 0.1602655053138733\n",
      "In epoch 90, loss: 0.13837529718875885\n",
      "In epoch 95, loss: 0.11821829527616501\n",
      "AUC 0.6684245078554278\n",
      "Minority PR_AUC 0.24808767616630611\n",
      "Majority PR_AUC 0.7890044093354007\n",
      "\n",
      "*****************************************\n",
      "\n",
      "Train Set - Positive Edges:  9501\n",
      "Train Set - Negative Edges:  3167\n",
      "Test Set - Positive Edges:  1055\n",
      "Test Set - Negative Edges:  351 \n",
      "\n",
      "In epoch 0, loss: 1.41226065158844\n",
      "In epoch 5, loss: 0.8148369789123535\n",
      "In epoch 10, loss: 0.5053541660308838\n",
      "In epoch 15, loss: 0.47706449031829834\n",
      "In epoch 20, loss: 0.4752114415168762\n",
      "In epoch 25, loss: 0.45186543464660645\n",
      "In epoch 30, loss: 0.41152605414390564\n",
      "In epoch 35, loss: 0.37408939003944397\n",
      "In epoch 40, loss: 0.3430650234222412\n",
      "In epoch 45, loss: 0.3102704584598541\n",
      "In epoch 50, loss: 0.27644261717796326\n",
      "In epoch 55, loss: 0.24376116693019867\n",
      "In epoch 60, loss: 0.21359606087207794\n",
      "In epoch 65, loss: 0.18498210608959198\n",
      "In epoch 70, loss: 0.15826308727264404\n",
      "In epoch 75, loss: 0.13415540754795074\n",
      "In epoch 80, loss: 0.11276071518659592\n",
      "In epoch 85, loss: 0.09397739171981812\n",
      "In epoch 90, loss: 0.07775507867336273\n",
      "In epoch 95, loss: 0.06404700130224228\n",
      "AUC 0.6260487976127787\n",
      "Minority PR_AUC 0.19180855279271974\n",
      "Majority PR_AUC 0.8320560837316255\n",
      "\n",
      "*****************************************\n",
      "\n",
      "Train Set - Positive Edges:  9501\n",
      "Train Set - Negative Edges:  2376\n",
      "Test Set - Positive Edges:  1055\n",
      "Test Set - Negative Edges:  263 \n",
      "\n",
      "In epoch 0, loss: 1.6485873460769653\n",
      "In epoch 5, loss: 0.8734499216079712\n",
      "In epoch 10, loss: 0.5170594453811646\n",
      "In epoch 15, loss: 0.5035204887390137\n",
      "In epoch 20, loss: 0.4900321364402771\n",
      "In epoch 25, loss: 0.4589706063270569\n",
      "In epoch 30, loss: 0.4143706262111664\n",
      "In epoch 35, loss: 0.3722265064716339\n",
      "In epoch 40, loss: 0.335514098405838\n",
      "In epoch 45, loss: 0.3030693829059601\n",
      "In epoch 50, loss: 0.2709569036960602\n",
      "In epoch 55, loss: 0.23945260047912598\n",
      "In epoch 60, loss: 0.21084599196910858\n",
      "In epoch 65, loss: 0.18511249125003815\n",
      "In epoch 70, loss: 0.16153250634670258\n",
      "In epoch 75, loss: 0.14005917310714722\n",
      "In epoch 80, loss: 0.12076618522405624\n",
      "In epoch 85, loss: 0.10356002300977707\n",
      "In epoch 90, loss: 0.0883316919207573\n",
      "In epoch 95, loss: 0.07508749514818192\n",
      "AUC 0.6380083974555348\n",
      "Minority PR_AUC 0.14924441091179716\n",
      "Majority PR_AUC 0.8715607217807346\n",
      "\n",
      "*****************************************\n",
      "\n"
     ]
    },
    {
     "data": {
      "image/png": "[encoded data removed]",
      "text/plain": [
       "<Figure size 432x288 with 1 Axes>"
      ]
     },
     "metadata": {
      "needs_background": "light"
     },
     "output_type": "display_data"
    }
   ],
   "source": [
    "# ----------- 3. Set up loss and optimizer -------------- #\n",
    "# in this case, loss will in training loop\n",
    "optimizer = torch.optim.Adam(itertools.chain(model.parameters(), pred.parameters()), lr=0.01)\n",
    "\n",
    "# ----------- 4. Training -------------------------------- #\n",
    "factors = [1,2,3,4]   # Factor to imbalance the data\n",
    "auc_scores = []       # Keep track of the AUC values\n",
    "min_pr_scores = []\n",
    "maj_pr_scores = []\n",
    "fig = plt.figure()\n",
    "for i in range(len(factors)):\n",
    "    train_g, train_pos_g, train_neg_g, test_pos_g, test_neg_g = data_select(factors[i])\n",
    "\n",
    "    all_logits = []\n",
    "    epochs = []\n",
    "    lossvals = []\n",
    "    for e in range(100):\n",
    "        # forward\n",
    "        h = model(train_g, train_g.ndata['feat'])\n",
    "        pos_score = pred(train_pos_g, h)\n",
    "        neg_score = pred(train_neg_g, h)\n",
    "        \n",
    "        #imb_weight = torch.cat([0*torch.ones(pos_score.shape[0]), \n",
    "        #                        1*torch.ones(neg_score.shape[0])])   # 15% drop AUC, 15% increase PR-min\n",
    "        #imb_weight = torch.cat([0*torch.ones(pos_score.shape[0]), \n",
    "        #                        0.5*torch.ones(neg_score.shape[0])])  # 25% drop AUC, 20% increase PR-min\n",
    "        imb_weight = torch.cat([0*torch.ones(pos_score.shape[0]), \n",
    "                                1/factors[i]*torch.ones(neg_score.shape[0])])\n",
    "        \n",
    "        imbalance = train_neg_g.number_of_edges()/train_pos_g.number_of_edges()\n",
    "        sig_q = 1-imbalance\n",
    "        sigmoid = 1/(1+np.exp(-sig_q))\n",
    "        imb_sig = torch.cat([0*torch.ones(pos_score.shape[0]), sigmoid*torch.ones(neg_score.shape[0])]) \n",
    "        \n",
    "        # If the imbalance is less than 20% use the original loss function\n",
    "        if (imbalance > 0.8):\n",
    "            loss = compute_weighted_loss(pos_score, neg_score)   # no weights\n",
    "        else: \n",
    "            loss = compute_weighted_loss(pos_score, neg_score, imb_weight)*factors[i]\n",
    "                \n",
    "        # backward\n",
    "        optimizer.zero_grad()\n",
    "        loss.backward()\n",
    "        optimizer.step()\n",
    "        \n",
    "        if e % 5 == 0:\n",
    "            epochs.append(e)\n",
    "            lossvals.append(loss.item())\n",
    "            print('In epoch {}, loss: {}'.format(e, loss))\n",
    "\n",
    "    # ----------- 5. Check Results ------------------------ #\n",
    "    from sklearn.metrics import roc_auc_score\n",
    "    from sklearn.metrics import average_precision_score\n",
    "    with torch.no_grad():\n",
    "        pos_score = pred(test_pos_g, h)\n",
    "        neg_score = pred(test_neg_g, h)\n",
    "        auc = compute_auc(pos_score, neg_score)\n",
    "        minor_pr_auc, major_pr_auc = compute_prc(pos_score, neg_score)\n",
    "        auc_scores.insert(len(auc_scores), auc)\n",
    "        min_pr_scores.insert(len(min_pr_scores), minor_pr_auc)\n",
    "        maj_pr_scores.insert(len(maj_pr_scores), major_pr_auc)\n",
    "        print('AUC', auc)\n",
    "        print('Minority PR_AUC', minor_pr_auc)\n",
    "        print('Majority PR_AUC', major_pr_auc)\n",
    "        print('\\n*****************************************\\n')\n",
    "        \n",
    "    # Plot\n",
    "    plt.scatter(epochs, lossvals)\n",
    "    plt.plot(epochs, lossvals, label='1:{} Positive:Negative'.format(factors[i]))\n",
    "\n",
    "# Plot labels\n",
    "plt.legend()\n",
    "plt.title(\"Loss vs Runs\")\n",
    "plt.xlabel(\"Epochs\")\n",
    "plt.ylabel(\"Loss\")\n",
    "plt.show()"
   ]
  },
  {
   "cell_type": "code",
   "execution_count": 246,
   "metadata": {},
   "outputs": [
    {
     "data": {
      "image/png": "[encoded data removed]",
      "text/plain": [
       "<Figure size 432x288 with 1 Axes>"
      ]
     },
     "metadata": {
      "needs_background": "light"
     },
     "output_type": "display_data"
    }
   ],
   "source": [
    "fig = plt.figure()\n",
    "ratios = []\n",
    "for k in range(len(factors)):\n",
    "    ratios.append('1:{}'.format(factors[k]))\n",
    "ax = fig.add_axes([0,0,1,1])\n",
    "ax.bar(ratios, auc_scores, 0.5)\n",
    "plt.title(\"ROC AUC Scores\")\n",
    "plt.xlabel(\"Ratio of Imbalance\")\n",
    "plt.ylabel(\"ROC AUC Score\")\n",
    "plt.show()"
   ]
  },
  {
   "cell_type": "code",
   "execution_count": 247,
   "metadata": {},
   "outputs": [
    {
     "data": {
      "image/png": "[encoded data removed]",
      "text/plain": [
       "<Figure size 432x288 with 2 Axes>"
      ]
     },
     "metadata": {
      "needs_background": "light"
     },
     "output_type": "display_data"
    }
   ],
   "source": [
    "fig, ax = plt.subplots()\n",
    "ax = fig.add_axes([0,0,1,1])\n",
    "ratios = []\n",
    "for k in range(len(factors)):\n",
    "    ratios.append('1:{}'.format(factors[k]))\n",
    "x_axis = np.arange(len(ratios))\n",
    "bars1 = ax.bar(x_axis - 0.2, min_pr_scores, 0.4, label = 'Minority Class')\n",
    "bars2 = ax.bar(x_axis + 0.2, maj_pr_scores, 0.4, label = 'Majority Class')\n",
    "ax.set_xticks(x_axis)\n",
    "ax.set_xticklabels(ratios)\n",
    "plt.title(\"Precision-Recall AUC Scores\")\n",
    "plt.xlabel(\"Ratio of Imbalance\")\n",
    "plt.ylabel(\"Precision Recall Score\")\n",
    "plt.legend()\n",
    "plt.show()"
   ]
  },
  {
   "cell_type": "code",
   "execution_count": 248,
   "metadata": {},
   "outputs": [
    {
     "name": "stdout",
     "output_type": "stream",
     "text": [
      "AUC Scores:              [0.8464607713213989, 0.6684245078554278, 0.6260487976127787, 0.6380083974555348]\n",
      "Majority PR Scores:      [0.7937551335795002, 0.7890044093354007, 0.8320560837316255, 0.8715607217807346]\n",
      "Minority PR Scores:      [0.33599570836487985, 0.24808767616630611, 0.19180855279271974, 0.14924441091179716] \n",
      "\n",
      "Average Change AUC:      -19.999563955243804 %\n",
      "Average Change PR-Maj:   -9.09121374287054 %\n",
      "Average Change PR-Min:   22.47665349176957 %\n"
     ]
    }
   ],
   "source": [
    "# Original scores\n",
    "auc_org = [0.8429648929718562, 0.8602714101999155, 0.8804012908278311, 0.9014181968896978]\n",
    "maj_pr_org = [0.8147503304995518, 0.9066036877657693, 0.9391281440037891, 0.9621504449192085]\n",
    "min_pr_org = [0.33302690139182634, 0.203405367764602, 0.144266888257322, 0.11129830080077503]\n",
    "\n",
    "# New scores\n",
    "print('AUC Scores:             ', auc_scores)\n",
    "print('Majority PR Scores:     ', maj_pr_scores)\n",
    "print('Minority PR Scores:     ', min_pr_scores,'\\n')\n",
    "\n",
    "# Change\n",
    "delta_auc = [auc_scores[i]/auc_org[i] for i in range(len(auc_scores))]\n",
    "delta_pr_maj = [maj_pr_scores[i]/maj_pr_org[i] for i in range(len(maj_pr_scores))]\n",
    "delta_pr_min = [min_pr_scores[i]/min_pr_org[i] for i in range(len(min_pr_scores))]\n",
    "\n",
    "print('Average Change AUC:      {} %'.format((sum(delta_auc)/len(delta_auc)-1)*100))\n",
    "print('Average Change PR-Maj:   {} %'.format((sum(delta_pr_maj)/len(delta_pr_maj)-1)*100))\n",
    "print('Average Change PR-Min:   {} %'.format((sum(delta_pr_min)/len(delta_pr_min)-1)*100))"
   ]
  },
  {
   "cell_type": "code",
   "execution_count": null,
   "metadata": {},
   "outputs": [],
   "source": []
  }
 ],
 "metadata": {
  "kernelspec": {
   "display_name": "Python 3",
   "language": "python",
   "name": "python3"
  },
  "language_info": {
   "codemirror_mode": {
    "name": "ipython",
    "version": 3
   },
   "file_extension": ".py",
   "mimetype": "text/x-python",
   "name": "python",
   "nbconvert_exporter": "python",
   "pygments_lexer": "ipython3",
   "version": "3.8.3"
  }
 },
 "nbformat": 4,
 "nbformat_minor": 4
}
